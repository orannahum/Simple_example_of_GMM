{
  "nbformat": 4,
  "nbformat_minor": 0,
  "metadata": {
    "colab": {
      "name": "Untitled18.ipynb",
      "provenance": [],
      "authorship_tag": "ABX9TyPncIQ5DijZqhnDBc0XiXuK",
      "include_colab_link": true
    },
    "kernelspec": {
      "name": "python3",
      "display_name": "Python 3"
    },
    "language_info": {
      "name": "python"
    }
  },
  "cells": [
    {
      "cell_type": "markdown",
      "metadata": {
        "id": "view-in-github",
        "colab_type": "text"
      },
      "source": [
        "<a href=\"https://colab.research.google.com/github/orannahum/simple_example_of_GMM/blob/main/Untitled18.ipynb\" target=\"_parent\"><img src=\"https://colab.research.google.com/assets/colab-badge.svg\" alt=\"Open In Colab\"/></a>"
      ]
    },
    {
      "cell_type": "code",
      "metadata": {
        "id": "eMow4BUpAGgl"
      },
      "source": [
        ">>> import numpy as np\n",
        ">>> y0 = np.random.multivariate_normal([0, 0], [[2, 0], [0, 0.1]], size=50)\n",
        ">>> y1 = np.random.multivariate_normal([0, 0], [[0.1, 0], [0, 2]], size=50)\n",
        ">>> y2 = np.random.multivariate_normal([2, 2], [[2, -1.5], [-1.5, 2]], size=50)\n",
        ">>> y3 = np.random.multivariate_normal([-2, -2], [[0.5, 0], [0, 0.5]], size=50)\n",
        ">>> y = np.vstack([y0, y1, y2, y3])\n"
      ],
      "execution_count": 69,
      "outputs": []
    },
    {
      "cell_type": "code",
      "metadata": {
        "colab": {
          "base_uri": "https://localhost:8080/"
        },
        "id": "Kt67w_TBBLhR",
        "outputId": "19246c8a-f8f1-4ddf-8fed-74c1b59c9995"
      },
      "source": [
        "!pip install bayespy\n"
      ],
      "execution_count": 70,
      "outputs": [
        {
          "output_type": "stream",
          "name": "stdout",
          "text": [
            "Requirement already satisfied: bayespy in /usr/local/lib/python3.7/dist-packages (0.5.22)\n",
            "Requirement already satisfied: h5py in /usr/local/lib/python3.7/dist-packages (from bayespy) (3.1.0)\n",
            "Requirement already satisfied: scipy>=0.13.0 in /usr/local/lib/python3.7/dist-packages (from bayespy) (1.4.1)\n",
            "Requirement already satisfied: numpy>=1.10.0 in /usr/local/lib/python3.7/dist-packages (from bayespy) (1.19.5)\n",
            "Requirement already satisfied: cached-property in /usr/local/lib/python3.7/dist-packages (from h5py->bayespy) (1.5.2)\n"
          ]
        }
      ]
    },
    {
      "cell_type": "code",
      "metadata": {
        "colab": {
          "base_uri": "https://localhost:8080/",
          "height": 283
        },
        "id": "w7vACgBQANTO",
        "outputId": "8d3c5015-f499-4a62-dd68-8fe208381b45"
      },
      "source": [
        ">>> import bayespy.plot as bpplt\n",
        ">>> bpplt.pyplot.plot(y[:,0], y[:,1], 'rx')\n"
      ],
      "execution_count": 71,
      "outputs": [
        {
          "output_type": "execute_result",
          "data": {
            "text/plain": [
              "[<matplotlib.lines.Line2D at 0x7fa596903410>]"
            ]
          },
          "metadata": {},
          "execution_count": 71
        },
        {
          "output_type": "display_data",
          "data": {
            "image/png": "[encoded data removed]",
            "text/plain": [
              "<Figure size 432x288 with 1 Axes>"
            ]
          },
          "metadata": {
            "needs_background": "light"
          }
        }
      ]
    },
    {
      "cell_type": "code",
      "metadata": {
        "id": "7DYDRd6jB_cC"
      },
      "source": [
        "N = 200\n"
      ],
      "execution_count": 72,
      "outputs": []
    },
    {
      "cell_type": "code",
      "metadata": {
        "id": "HHppNcKEBkR5"
      },
      "source": [
        "D = 2"
      ],
      "execution_count": 73,
      "outputs": []
    },
    {
      "cell_type": "code",
      "metadata": {
        "id": "RUZdv9mOBmn6"
      },
      "source": [
        "K = 10"
      ],
      "execution_count": 74,
      "outputs": []
    },
    {
      "cell_type": "code",
      "metadata": {
        "id": "6hcle64DBpU_"
      },
      "source": [
        ">>> from bayespy.nodes import Dirichlet, Categorical\n",
        ">>> alpha = Dirichlet(1e-5*np.ones(K),\n",
        "...                   name='alpha')\n",
        ">>> Z = Categorical(alpha,\n",
        "...                 plates=(N,),\n",
        "...                 name='z')"
      ],
      "execution_count": 75,
      "outputs": []
    },
    {
      "cell_type": "code",
      "metadata": {
        "id": "a_zowEMdB7TD"
      },
      "source": [
        ">>> from bayespy.nodes import Gaussian, Wishart\n",
        ">>> mu = Gaussian(np.zeros(D), 1e-5*np.identity(D),\n",
        "...               plates=(K,),\n",
        "...               name='mu')\n",
        ">>> Lambda = Wishart(D, 1e-5*np.identity(D),\n",
        "...                  plates=(K,),\n",
        "...                  name='Lambda')"
      ],
      "execution_count": 76,
      "outputs": []
    },
    {
      "cell_type": "code",
      "metadata": {
        "id": "zOAu0KYRCHxm"
      },
      "source": [
        ">>> from bayespy.nodes import Mixture\n",
        ">>> Y = Mixture(Z, Gaussian, mu, Lambda,\n",
        "...             name='Y')"
      ],
      "execution_count": 77,
      "outputs": []
    },
    {
      "cell_type": "code",
      "metadata": {
        "id": "isvMIPwuCKCW"
      },
      "source": [
        ">>> Z.initialize_from_random()\n",
        ">>> from bayespy.inference import VB\n",
        ">>> Q = VB(Y, mu, Lambda, Z, alpha)"
      ],
      "execution_count": 78,
      "outputs": []
    },
    {
      "cell_type": "code",
      "metadata": {
        "id": "XdsRaoUwCMfg"
      },
      "source": [
        ">>> Y.observe(y)\n"
      ],
      "execution_count": 79,
      "outputs": []
    },
    {
      "cell_type": "code",
      "metadata": {
        "colab": {
          "base_uri": "https://localhost:8080/"
        },
        "id": "xAV5YFCnCPO-",
        "outputId": "efecda0a-fc20-4529-e273-56c33b761cc9"
      },
      "source": [
        ">>> Q.update(repeat=1000)\n"
      ],
      "execution_count": 80,
      "outputs": [
        {
          "output_type": "stream",
          "name": "stdout",
          "text": [
            "Iteration 1: loglike=-1.424223e+03 (0.014 seconds)\n",
            "Iteration 2: loglike=-1.291979e+03 (0.010 seconds)\n",
            "Iteration 3: loglike=-1.283746e+03 (0.006 seconds)\n",
            "Iteration 4: loglike=-1.278591e+03 (0.006 seconds)\n",
            "Iteration 5: loglike=-1.275304e+03 (0.095 seconds)\n",
            "Iteration 6: loglike=-1.272772e+03 (0.008 seconds)\n",
            "Iteration 7: loglike=-1.270301e+03 (0.007 seconds)\n",
            "Iteration 8: loglike=-1.267488e+03 (0.010 seconds)\n",
            "Iteration 9: loglike=-1.264111e+03 (0.007 seconds)\n",
            "Iteration 10: loglike=-1.260201e+03 (0.010 seconds)\n",
            "Iteration 11: loglike=-1.255954e+03 (0.007 seconds)\n",
            "Iteration 12: loglike=-1.251362e+03 (0.007 seconds)\n",
            "Iteration 13: loglike=-1.246119e+03 (0.007 seconds)\n",
            "Iteration 14: loglike=-1.239550e+03 (0.007 seconds)\n",
            "Iteration 15: loglike=-1.230787e+03 (0.007 seconds)\n",
            "Iteration 16: loglike=-1.219679e+03 (0.011 seconds)\n",
            "Iteration 17: loglike=-1.205667e+03 (0.007 seconds)\n",
            "Iteration 18: loglike=-1.184626e+03 (0.007 seconds)\n",
            "Iteration 19: loglike=-1.146572e+03 (0.006 seconds)\n",
            "Iteration 20: loglike=-1.127520e+03 (0.006 seconds)\n",
            "Iteration 21: loglike=-1.094479e+03 (0.008 seconds)\n",
            "Iteration 22: loglike=-1.074739e+03 (0.007 seconds)\n",
            "Iteration 23: loglike=-1.041507e+03 (0.007 seconds)\n",
            "Iteration 24: loglike=-1.034497e+03 (0.007 seconds)\n",
            "Iteration 25: loglike=-1.020630e+03 (0.007 seconds)\n",
            "Iteration 26: loglike=-9.921964e+02 (0.008 seconds)\n",
            "Iteration 27: loglike=-9.913331e+02 (0.007 seconds)\n",
            "Iteration 28: loglike=-9.906877e+02 (0.007 seconds)\n",
            "Iteration 29: loglike=-9.901027e+02 (0.007 seconds)\n",
            "Iteration 30: loglike=-9.895527e+02 (0.007 seconds)\n",
            "Iteration 31: loglike=-9.891406e+02 (0.007 seconds)\n",
            "Iteration 32: loglike=-9.889013e+02 (0.007 seconds)\n",
            "Iteration 33: loglike=-9.887769e+02 (0.007 seconds)\n",
            "Iteration 34: loglike=-9.887025e+02 (0.007 seconds)\n",
            "Iteration 35: loglike=-9.886388e+02 (0.007 seconds)\n",
            "Iteration 36: loglike=-9.885637e+02 (0.007 seconds)\n",
            "Iteration 37: loglike=-9.884583e+02 (0.007 seconds)\n",
            "Iteration 38: loglike=-9.882956e+02 (0.008 seconds)\n",
            "Iteration 39: loglike=-9.880387e+02 (0.008 seconds)\n",
            "Iteration 40: loglike=-9.876772e+02 (0.007 seconds)\n",
            "Iteration 41: loglike=-9.873051e+02 (0.009 seconds)\n",
            "Iteration 42: loglike=-9.870277e+02 (0.007 seconds)\n",
            "Iteration 43: loglike=-9.868264e+02 (0.006 seconds)\n",
            "Iteration 44: loglike=-9.866294e+02 (0.010 seconds)\n",
            "Iteration 45: loglike=-9.863419e+02 (0.006 seconds)\n",
            "Iteration 46: loglike=-9.857867e+02 (0.006 seconds)\n",
            "Iteration 47: loglike=-9.847211e+02 (0.006 seconds)\n",
            "Iteration 48: loglike=-9.831988e+02 (0.006 seconds)\n",
            "Iteration 49: loglike=-9.801939e+02 (0.006 seconds)\n",
            "Iteration 50: loglike=-9.681884e+02 (0.007 seconds)\n",
            "Iteration 51: loglike=-9.436876e+02 (0.007 seconds)\n",
            "Iteration 52: loglike=-9.435550e+02 (0.007 seconds)\n",
            "Iteration 53: loglike=-9.434330e+02 (0.008 seconds)\n",
            "Iteration 54: loglike=-9.433179e+02 (0.007 seconds)\n",
            "Iteration 55: loglike=-9.432082e+02 (0.007 seconds)\n",
            "Iteration 56: loglike=-9.431027e+02 (0.007 seconds)\n",
            "Iteration 57: loglike=-9.430005e+02 (0.007 seconds)\n",
            "Iteration 58: loglike=-9.429015e+02 (0.008 seconds)\n",
            "Iteration 59: loglike=-9.428062e+02 (0.019 seconds)\n",
            "Iteration 60: loglike=-9.427166e+02 (0.007 seconds)\n",
            "Iteration 61: loglike=-9.426352e+02 (0.007 seconds)\n",
            "Iteration 62: loglike=-9.425651e+02 (0.007 seconds)\n",
            "Iteration 63: loglike=-9.425078e+02 (0.007 seconds)\n",
            "Iteration 64: loglike=-9.424636e+02 (0.007 seconds)\n",
            "Iteration 65: loglike=-9.424308e+02 (0.007 seconds)\n",
            "Iteration 66: loglike=-9.424072e+02 (0.007 seconds)\n",
            "Iteration 67: loglike=-9.423907e+02 (0.007 seconds)\n",
            "Iteration 68: loglike=-9.423791e+02 (0.007 seconds)\n",
            "Iteration 69: loglike=-9.423710e+02 (0.007 seconds)\n",
            "Converged at iteration 69.\n"
          ]
        }
      ]
    },
    {
      "cell_type": "code",
      "metadata": {
        "colab": {
          "base_uri": "https://localhost:8080/",
          "height": 265
        },
        "id": "RvrFbctVCRuG",
        "outputId": "f353e4ac-06ff-4af9-fd04-7412f067d7a3"
      },
      "source": [
        ">>> bpplt.gaussian_mixture_2d(Y, alpha=alpha, scale=2)\n"
      ],
      "execution_count": 81,
      "outputs": [
        {
          "output_type": "display_data",
          "data": {
            "image/png": "[encoded data removed]",
            "text/plain": [
              "<Figure size 432x288 with 1 Axes>"
            ]
          },
          "metadata": {
            "needs_background": "light"
          }
        }
      ]
    }
  ]
}
